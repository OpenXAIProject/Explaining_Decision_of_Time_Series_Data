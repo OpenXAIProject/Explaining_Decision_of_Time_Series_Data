{
 "cells": [
  {
   "cell_type": "code",
   "execution_count": 41,
   "metadata": {},
   "outputs": [],
   "source": [
    "import pandas as pd\n",
    "import numpy as np\n",
    "from tensorflow.python.ops import nn_ops, gen_nn_ops\n",
    "import tensorflow as tf"
   ]
  },
  {
   "cell_type": "code",
   "execution_count": 255,
   "metadata": {},
   "outputs": [],
   "source": [
    "class CNN_MC_dropout:\n",
    "    def __init__(self, std=0.01, batch_size=64,width=500, height =1, input_channel=3, nb_classes=2, l_rate =1e-6,reuse = False):\n",
    "        self.std=std\n",
    "        self.batch_size=batch_size\n",
    "        self.height = height\n",
    "        self.width = width\n",
    "        self.input_channel = input_channel\n",
    "        self.l_rate = l_rate\n",
    "        \n",
    "        self.nb_classes = nb_classes\n",
    "\n",
    "        with tf.name_scope('Classifier'):\n",
    "            self.y = tf.placeholder(tf.float32, [None, self.nb_classes], name='y')\n",
    "            self.x = tf.placeholder(tf.float32, [None, self.height,self.width,self.input_channel], name='x')\n",
    "            self.keep_prob = tf.placeholder(tf.float32)\n",
    "        \n",
    "        # keep prob가 1보다 작으면, 드랍아웃을 한다는 의미\n",
    "        self.dropout_bool = tf.cond(self.keep_prob < 1.0, lambda: tf.constant(1), lambda: tf.constant(0))\n",
    "        \n",
    "        self.logits = self.build_model()\n",
    "\n",
    "        # Define loss and optimizer, minimize the squared error\n",
    "        self.cross_entropy = cross_entropy = tf.nn.softmax_cross_entropy_with_logits_v2(labels=self.y, logits=self.logits)\n",
    "        self.cost =tf.reduce_mean(self.cross_entropy)\n",
    "        self.optimizer = tf.train.AdamOptimizer(self.l_rate).minimize(self.cost)\n",
    "\n",
    "        self.correct_pred = tf.equal(tf.round(self.prediction),self.y)\n",
    "        self.accuracy = tf.reduce_mean(tf.cast(self.correct_pred, tf.float32))\n",
    "\n",
    "        init = tf.global_variables_initializer()\n",
    "\n",
    "        # Launch the session\n",
    "        self.session_conf = tf.ConfigProto()\n",
    "        self.session_conf.gpu_options.allow_growth = True\n",
    "        self.sess = tf.InteractiveSession(config=self.session_conf)\n",
    "        self.sess.run(init)\n",
    "\n",
    "        self.saver = tf.train.Saver(max_to_keep=None)\n",
    "\n",
    "    def build_model(self):\n",
    "        with tf.variable_scope('layer0'):\n",
    "            #b, h, w, c\n",
    "            self.input = self.x\n",
    "        # Convolutional Layer #1 and Pooling Layer #1\n",
    "        with tf.variable_scope('layer1'):\n",
    "            self.conv1 = tf.layers.conv2d(self.input, 128, [8,1], padding='SAME')\n",
    "            self.batch1 = tf.layers.batch_normalization(self.conv1)\n",
    "            self.relu1 = tf.nn.relu(self.batch1)\n",
    "            self.dropout1 = tf.layers.dropout(self.relu1, self.keep_prob,self.dropout_bool)\n",
    "\n",
    "        # Convolutional Layer #1 and Pooling Layer #2\n",
    "        with tf.variable_scope('layer2'):\n",
    "            self.conv2 = tf.layers.conv2d(self.dropout1, 256, [5,1], padding='SAME')\n",
    "            self.batch2 = tf.layers.batch_normalization(self.conv2)\n",
    "            self.relu2 = tf.nn.relu(self.batch2)\n",
    "            self.dropout2 = tf.layers.dropout(self.relu2, self.keep_prob,self.dropout_bool)\n",
    "\n",
    "        # Convolutional Layer #1 and Pooling Layer #3\n",
    "        with tf.variable_scope('layer3'):\n",
    "            self.conv3 = tf.layers.conv2d(self.dropout2, 128, [3,1], padding='SAME')\n",
    "            self.batch3 = tf.layers.batch_normalization(self.conv3)\n",
    "            self.relu3 = tf.nn.relu(self.batch3)\n",
    "\n",
    "        # Dense Layer with Relu\n",
    "        with tf.variable_scope('layer4'):\n",
    "            #Global Average Pooling\n",
    "            self.GAP = tf.reduce_mean(self.relu3, axis=[1,2])# b,h,w,c\n",
    "            self.logits = tf.layers.dense(self.GAP,self.nb_classes)\n",
    "            self.prediction = tf.nn.softmax(self.logits)\n",
    "            \n",
    "        return self.logits\n",
    "\n",
    "\n",
    "    def train(self, data, target, keep_prob,dropout_bool):\n",
    "        opt, cost ,acc = self.sess.run((self.optimizer, self.cost, self.accuracy ), \n",
    "                             feed_dict={self.y: target,\n",
    "                                        self.x: data,\n",
    "                                       self.keep_prob: keep_prob,\n",
    "                                       self.dropout_bool : dropout_bool})\n",
    "        return cost,acc\n",
    "\n",
    "    def test(self, data, target, keep_prob,dropout_bool):\n",
    "        cost,acc = self.sess.run((self.cost,self.accuracy),\n",
    "                             feed_dict={self.y: target,\n",
    "                                        self.x: data,\n",
    "                                       self.keep_prob: keep_prob,\n",
    "                                       self.dropout_bool : dropout_bool})\n",
    "        return cost,acc\n",
    "\n",
    "    def get_last_conv_output(self, data, keep_prob):\n",
    "        relu3 =  self.sess.run((self.relu3), \n",
    "                             feed_dict={self.x: data,\n",
    "                                       self.keep_prob: keep_prob})\n",
    "        return relu3\n",
    "    \n",
    "\n",
    "    def save(self, save_path='./model.ckpt'):\n",
    "        saved_path = self.saver.save(self.sess, save_path)\n",
    "        print(\"Model saved in file: %s\"%saved_path)\n",
    "\n",
    "    def load(self, load_path = './model.ckpt'):\n",
    "        self.saver.restore(self.sess, load_path)\n",
    "        print(\"Model restored\")\n",
    "\n",
    "    def terminate(self):\n",
    "        self.sess.close()\n",
    "        tf.reset_default_graph() "
   ]
  },
  {
   "cell_type": "markdown",
   "metadata": {},
   "source": [
    "# 1. Data Load\n",
    "### 전처리 width, height, input_channel 정의"
   ]
  },
  {
   "cell_type": "code",
   "execution_count": 175,
   "metadata": {},
   "outputs": [],
   "source": [
    "import os"
   ]
  },
  {
   "cell_type": "code",
   "execution_count": 176,
   "metadata": {},
   "outputs": [],
   "source": [
    "def readucr(filename):\n",
    "    data = np.loadtxt(filename, delimiter = ',')\n",
    "    Y = data[:,0]\n",
    "    X = data[:,1:]\n",
    "    return X, Y"
   ]
  },
  {
   "cell_type": "code",
   "execution_count": 177,
   "metadata": {},
   "outputs": [],
   "source": [
    "data_path =\"/home/gin908/data/UCR_TS_Archive_2015\"\n",
    "fname = 'yoga'"
   ]
  },
  {
   "cell_type": "code",
   "execution_count": 178,
   "metadata": {},
   "outputs": [
    {
     "name": "stdout",
     "output_type": "stream",
     "text": [
      "batch size:16\n"
     ]
    }
   ],
   "source": [
    "full_data_path = os.path.join(data_path,fname)\n",
    "if os.path.exists(full_data_path):\n",
    "    x_train, y_train = readucr(full_data_path+'/'+fname+'_TRAIN')\n",
    "    x_test, y_test = readucr(full_data_path+'/'+fname+'_TEST')\n",
    "    nb_classes = len(np.unique(y_test))\n",
    "    batch_size = min(int(x_train.shape[0]/10), 16)\n",
    "    print (\"batch size:{}\".format(batch_size))"
   ]
  },
  {
   "cell_type": "code",
   "execution_count": 179,
   "metadata": {},
   "outputs": [],
   "source": [
    "hot_encoded_y_train = np.asarray(pd.get_dummies(np.asarray(y_train)))\n",
    "hot_encoded_y_test = np.asarray(pd.get_dummies(np.asarray(y_test)))"
   ]
  },
  {
   "cell_type": "code",
   "execution_count": 180,
   "metadata": {},
   "outputs": [
    {
     "name": "stdout",
     "output_type": "stream",
     "text": [
      "trainX shape:(300, 1, 426, 1)\n",
      "trainY shape:(300, 2)\n",
      "validX shape:(1500, 1, 426, 1)\n",
      "validY shape:(1500, 2)\n",
      "testY shape:(1500, 2)\n",
      "testX shape:(1500, 1, 426, 1)\n",
      "testY shape:(1500, 2)\n"
     ]
    }
   ],
   "source": [
    "trainX = x_train[:, np.newaxis, :, np.newaxis]\n",
    "trainY = hot_encoded_y_train\n",
    "\n",
    "validX =x_test[:len(x_test)//2, np.newaxis, :, np.newaxis]\n",
    "validY= hot_encoded_y_test[:len(x_test)//2]\n",
    "\n",
    "testX = x_test[len(x_test)//2:, np.newaxis, :, np.newaxis]\n",
    "testY = hot_encoded_y_test[len(x_test)//2:]\n",
    "\n",
    "print (\"trainX shape:{}\".format(trainX.shape))\n",
    "print (\"trainY shape:{}\".format(trainY.shape))\n",
    "print (\"validX shape:{}\".format(validX.shape))\n",
    "print (\"validY shape:{}\".format(validY.shape))\n",
    "print (\"testY shape:{}\".format(testY.shape))\n",
    "print (\"testX shape:{}\".format(testX.shape))\n",
    "print (\"testY shape:{}\".format(testY.shape))"
   ]
  },
  {
   "cell_type": "markdown",
   "metadata": {},
   "source": [
    "왜 train 보다 test갯수가 10배가 많지?"
   ]
  },
  {
   "cell_type": "code",
   "execution_count": 228,
   "metadata": {},
   "outputs": [],
   "source": [
    "height = trainX.shape[1]\n",
    "width = trainX.shape[2]\n",
    "input_channel = trainX.shape[3]"
   ]
  },
  {
   "cell_type": "markdown",
   "metadata": {},
   "source": [
    "# 2. Training condition 정의"
   ]
  },
  {
   "cell_type": "code",
   "execution_count": 229,
   "metadata": {},
   "outputs": [],
   "source": [
    "t_loss=[]\n",
    "t_acc=[]\n",
    "\n",
    "v_loss=[]\n",
    "v_acc=[]\n",
    "\n",
    "val_freq = 1\n",
    "save_freq = 1\n",
    "num_epochs= 50\n",
    "\n",
    "\n",
    "std= 0.01\n",
    "batch_size =128\n",
    "l_rate = 1e-3"
   ]
  },
  {
   "cell_type": "code",
   "execution_count": 230,
   "metadata": {},
   "outputs": [],
   "source": [
    "train_history = pd.DataFrame(index=np.arange(0, num_epochs), columns=['epoch', 'loss', 'acc','timestamp'])\n",
    "valid_history = pd.DataFrame(index=np.arange(0, num_epochs/val_freq),columns=['epoch', 'loss', 'acc','timestamp'])"
   ]
  },
  {
   "cell_type": "markdown",
   "metadata": {},
   "source": [
    "# 3. model structure 정의"
   ]
  },
  {
   "cell_type": "code",
   "execution_count": 256,
   "metadata": {},
   "outputs": [],
   "source": [
    "if 'MC_dropout_model' in globals():\n",
    "    MC_dropout_model.terminate()\n",
    "    \n",
    "MC_dropout_model =CNN_MC_dropout(height=height,width= width, input_channel=input_channel ,nb_classes=nb_classes,\n",
    "                                 std=std,batch_size=batch_size,l_rate=l_rate)"
   ]
  },
  {
   "cell_type": "code",
   "execution_count": 257,
   "metadata": {},
   "outputs": [
    {
     "name": "stdout",
     "output_type": "stream",
     "text": [
      "Tensor(\"Classifier/x:0\", shape=(?, 1, 426, 1), dtype=float32)\n",
      "[layer1] - MC dropout\n",
      "Tensor(\"layer1/conv2d/BiasAdd:0\", shape=(?, 1, 426, 128), dtype=float32)\n",
      "Tensor(\"layer1/batch_normalization/FusedBatchNorm:0\", shape=(?, 1, 426, 128), dtype=float32)\n",
      "Tensor(\"layer1/Relu:0\", shape=(?, 1, 426, 128), dtype=float32)\n",
      "Tensor(\"layer1/dropout/Identity:0\", shape=(?, 1, 426, 128), dtype=float32)\n",
      "[layer2] - MC dropout\n",
      "Tensor(\"layer2/conv2d/BiasAdd:0\", shape=(?, 1, 426, 256), dtype=float32)\n",
      "Tensor(\"layer2/batch_normalization/FusedBatchNorm:0\", shape=(?, 1, 426, 256), dtype=float32)\n",
      "Tensor(\"layer2/Relu:0\", shape=(?, 1, 426, 256), dtype=float32)\n",
      "Tensor(\"layer2/dropout/Identity:0\", shape=(?, 1, 426, 256), dtype=float32)\n",
      "[layer3]\n",
      "Tensor(\"layer3/conv2d/BiasAdd:0\", shape=(?, 1, 426, 128), dtype=float32)\n",
      "Tensor(\"layer3/batch_normalization/FusedBatchNorm:0\", shape=(?, 1, 426, 128), dtype=float32)\n",
      "Tensor(\"layer3/Relu:0\", shape=(?, 1, 426, 128), dtype=float32)\n",
      "[layer4]\n",
      "Tensor(\"layer4/Mean:0\", shape=(?, 128), dtype=float32)\n",
      "Tensor(\"layer4/dense/BiasAdd:0\", shape=(?, 2), dtype=float32)\n"
     ]
    }
   ],
   "source": [
    "print (MC_dropout_model.input)\n",
    "print ('[layer1] - MC dropout')\n",
    "print (MC_dropout_model.conv1)\n",
    "print (MC_dropout_model.batch1)\n",
    "print (MC_dropout_model.relu1)\n",
    "print (MC_dropout_model.dropout1)\n",
    "print ('[layer2] - MC dropout')\n",
    "print (MC_dropout_model.conv2)\n",
    "print (MC_dropout_model.batch2)\n",
    "print (MC_dropout_model.relu2)\n",
    "print (MC_dropout_model.dropout2)\n",
    "print ('[layer3]')\n",
    "print (MC_dropout_model.conv3)\n",
    "print (MC_dropout_model.batch3)\n",
    "print (MC_dropout_model.relu3)\n",
    "\n",
    "print ('[layer4]')\n",
    "print (MC_dropout_model.GAP)\n",
    "print (MC_dropout_model.logits)"
   ]
  },
  {
   "cell_type": "markdown",
   "metadata": {},
   "source": [
    "# 4. Training"
   ]
  },
  {
   "cell_type": "code",
   "execution_count": 258,
   "metadata": {},
   "outputs": [],
   "source": [
    "import time"
   ]
  },
  {
   "cell_type": "code",
   "execution_count": 269,
   "metadata": {},
   "outputs": [
    {
     "name": "stdout",
     "output_type": "stream",
     "text": [
      "ICML(UCR-yoga)_CNN_MCdropout1.0_0.001_128\n"
     ]
    }
   ],
   "source": [
    "save_path = '/data2/gin/savedmodel'\n",
    "model_name = 'ICML(UCR-'+fname+')_CNN_MCdropout'+str(keep_prob)+'_'+str(l_rate)+'_'+str(batch_size)\n",
    "print (model_name)"
   ]
  },
  {
   "cell_type": "code",
   "execution_count": 259,
   "metadata": {},
   "outputs": [],
   "source": [
    "def get_batch(X, Y,  batch_size=1024, shuffle=False):\n",
    "    \"\"\"\n",
    "    dataset: numpy ndarray. dim=2\n",
    "    \n",
    "    dataset_input = normalized_data[:, input_idx]\n",
    "    dataset_target = normalized_data[:, target_idx]\n",
    "    interested_indices = train_indices\n",
    "    \"\"\"    \n",
    "    assert np.isnan(X).any()==False\n",
    "    assert np.isnan(Y).any()==False\n",
    "    \n",
    "    interested_indices = range(0,len(X))\n",
    "\n",
    "    if shuffle:\n",
    "        np.random.shuffle(interested_indices)\n",
    "        \n",
    "    for i in range(0, len(X)-batch_size, batch_size):\n",
    "        batch_Xlist = []\n",
    "        batch_Ylist = [] \n",
    "        \n",
    "        batch_indices = interested_indices[i:i+batch_size]\n",
    "\n",
    "        batch_Xlist.append(X[batch_indices])\n",
    "        batch_Ylist.append(Y[batch_indices])\n",
    "\n",
    "            \n",
    "        batch_Xlist = np.asarray(batch_Xlist)\n",
    "        batch_Xlist = batch_Xlist.reshape(-1,X.shape[1],X.shape[2],X.shape[3])\n",
    "        \n",
    "        batch_Ylist = np.asarray(batch_Ylist)\n",
    "        batch_Ylist = batch_Ylist.reshape(-1,nb_classes)\n",
    "\n",
    "        yield batch_Xlist, batch_Ylist"
   ]
  },
  {
   "cell_type": "code",
   "execution_count": 264,
   "metadata": {},
   "outputs": [],
   "source": [
    "keep_prob =1.0"
   ]
  },
  {
   "cell_type": "code",
   "execution_count": 270,
   "metadata": {},
   "outputs": [
    {
     "name": "stdout",
     "output_type": "stream",
     "text": [
      "INFO:tensorflow:/data2/gin/savedmodel/ICML(UCR-yoga)_CNN_MCdropout1.0_0.001_128/1.ckpt is not in all_model_checkpoint_paths. Manually adding it.\n",
      "Model saved in file: /data2/gin/savedmodel/ICML(UCR-yoga)_CNN_MCdropout1.0_0.001_128/1.ckpt\n",
      "  training loss:\t0.692411\n",
      "  training acc:\t0.520\n",
      "  validation loss:\t0.691320\n",
      "  validation acc:\t0.529\n",
      "INFO:tensorflow:/data2/gin/savedmodel/ICML(UCR-yoga)_CNN_MCdropout1.0_0.001_128/2.ckpt is not in all_model_checkpoint_paths. Manually adding it.\n",
      "Model saved in file: /data2/gin/savedmodel/ICML(UCR-yoga)_CNN_MCdropout1.0_0.001_128/2.ckpt\n",
      "  training loss:\t0.692261\n",
      "  training acc:\t0.520\n",
      "  validation loss:\t0.691297\n",
      "  validation acc:\t0.529\n",
      "INFO:tensorflow:/data2/gin/savedmodel/ICML(UCR-yoga)_CNN_MCdropout1.0_0.001_128/3.ckpt is not in all_model_checkpoint_paths. Manually adding it.\n",
      "Model saved in file: /data2/gin/savedmodel/ICML(UCR-yoga)_CNN_MCdropout1.0_0.001_128/3.ckpt\n",
      "  training loss:\t0.692306\n",
      "  training acc:\t0.520\n",
      "  validation loss:\t0.691338\n",
      "  validation acc:\t0.529\n",
      "INFO:tensorflow:/data2/gin/savedmodel/ICML(UCR-yoga)_CNN_MCdropout1.0_0.001_128/4.ckpt is not in all_model_checkpoint_paths. Manually adding it.\n",
      "Model saved in file: /data2/gin/savedmodel/ICML(UCR-yoga)_CNN_MCdropout1.0_0.001_128/4.ckpt\n",
      "  training loss:\t0.692285\n",
      "  training acc:\t0.520\n",
      "  validation loss:\t0.691396\n",
      "  validation acc:\t0.529\n",
      "INFO:tensorflow:/data2/gin/savedmodel/ICML(UCR-yoga)_CNN_MCdropout1.0_0.001_128/5.ckpt is not in all_model_checkpoint_paths. Manually adding it.\n",
      "Model saved in file: /data2/gin/savedmodel/ICML(UCR-yoga)_CNN_MCdropout1.0_0.001_128/5.ckpt\n",
      "  training loss:\t0.692238\n",
      "  training acc:\t0.520\n",
      "  validation loss:\t0.691408\n",
      "  validation acc:\t0.529\n",
      "INFO:tensorflow:/data2/gin/savedmodel/ICML(UCR-yoga)_CNN_MCdropout1.0_0.001_128/6.ckpt is not in all_model_checkpoint_paths. Manually adding it.\n",
      "Model saved in file: /data2/gin/savedmodel/ICML(UCR-yoga)_CNN_MCdropout1.0_0.001_128/6.ckpt\n",
      "  training loss:\t0.692192\n",
      "  training acc:\t0.520\n",
      "  validation loss:\t0.691360\n",
      "  validation acc:\t0.529\n",
      "INFO:tensorflow:/data2/gin/savedmodel/ICML(UCR-yoga)_CNN_MCdropout1.0_0.001_128/7.ckpt is not in all_model_checkpoint_paths. Manually adding it.\n",
      "Model saved in file: /data2/gin/savedmodel/ICML(UCR-yoga)_CNN_MCdropout1.0_0.001_128/7.ckpt\n",
      "  training loss:\t0.692142\n",
      "  training acc:\t0.520\n",
      "  validation loss:\t0.691275\n",
      "  validation acc:\t0.529\n",
      "INFO:tensorflow:/data2/gin/savedmodel/ICML(UCR-yoga)_CNN_MCdropout1.0_0.001_128/8.ckpt is not in all_model_checkpoint_paths. Manually adding it.\n",
      "Model saved in file: /data2/gin/savedmodel/ICML(UCR-yoga)_CNN_MCdropout1.0_0.001_128/8.ckpt\n",
      "  training loss:\t0.692088\n",
      "  training acc:\t0.520\n",
      "  validation loss:\t0.691188\n",
      "  validation acc:\t0.529\n",
      "INFO:tensorflow:/data2/gin/savedmodel/ICML(UCR-yoga)_CNN_MCdropout1.0_0.001_128/9.ckpt is not in all_model_checkpoint_paths. Manually adding it.\n",
      "Model saved in file: /data2/gin/savedmodel/ICML(UCR-yoga)_CNN_MCdropout1.0_0.001_128/9.ckpt\n",
      "  training loss:\t0.692038\n",
      "  training acc:\t0.520\n",
      "  validation loss:\t0.691117\n",
      "  validation acc:\t0.529\n",
      "INFO:tensorflow:/data2/gin/savedmodel/ICML(UCR-yoga)_CNN_MCdropout1.0_0.001_128/10.ckpt is not in all_model_checkpoint_paths. Manually adding it.\n",
      "Model saved in file: /data2/gin/savedmodel/ICML(UCR-yoga)_CNN_MCdropout1.0_0.001_128/10.ckpt\n",
      "  training loss:\t0.691999\n",
      "  training acc:\t0.520\n",
      "  validation loss:\t0.691065\n",
      "  validation acc:\t0.529\n",
      "INFO:tensorflow:/data2/gin/savedmodel/ICML(UCR-yoga)_CNN_MCdropout1.0_0.001_128/11.ckpt is not in all_model_checkpoint_paths. Manually adding it.\n",
      "Model saved in file: /data2/gin/savedmodel/ICML(UCR-yoga)_CNN_MCdropout1.0_0.001_128/11.ckpt\n",
      "  training loss:\t0.691960\n",
      "  training acc:\t0.520\n",
      "  validation loss:\t0.691027\n",
      "  validation acc:\t0.529\n",
      "INFO:tensorflow:/data2/gin/savedmodel/ICML(UCR-yoga)_CNN_MCdropout1.0_0.001_128/12.ckpt is not in all_model_checkpoint_paths. Manually adding it.\n",
      "Model saved in file: /data2/gin/savedmodel/ICML(UCR-yoga)_CNN_MCdropout1.0_0.001_128/12.ckpt\n",
      "  training loss:\t0.691914\n",
      "  training acc:\t0.520\n",
      "  validation loss:\t0.690983\n",
      "  validation acc:\t0.529\n",
      "INFO:tensorflow:/data2/gin/savedmodel/ICML(UCR-yoga)_CNN_MCdropout1.0_0.001_128/13.ckpt is not in all_model_checkpoint_paths. Manually adding it.\n",
      "Model saved in file: /data2/gin/savedmodel/ICML(UCR-yoga)_CNN_MCdropout1.0_0.001_128/13.ckpt\n",
      "  training loss:\t0.691857\n",
      "  training acc:\t0.520\n",
      "  validation loss:\t0.690920\n",
      "  validation acc:\t0.529\n",
      "INFO:tensorflow:/data2/gin/savedmodel/ICML(UCR-yoga)_CNN_MCdropout1.0_0.001_128/14.ckpt is not in all_model_checkpoint_paths. Manually adding it.\n",
      "Model saved in file: /data2/gin/savedmodel/ICML(UCR-yoga)_CNN_MCdropout1.0_0.001_128/14.ckpt\n",
      "  training loss:\t0.691789\n",
      "  training acc:\t0.520\n",
      "  validation loss:\t0.690836\n",
      "  validation acc:\t0.529\n",
      "INFO:tensorflow:/data2/gin/savedmodel/ICML(UCR-yoga)_CNN_MCdropout1.0_0.001_128/15.ckpt is not in all_model_checkpoint_paths. Manually adding it.\n",
      "Model saved in file: /data2/gin/savedmodel/ICML(UCR-yoga)_CNN_MCdropout1.0_0.001_128/15.ckpt\n",
      "  training loss:\t0.691712\n",
      "  training acc:\t0.520\n",
      "  validation loss:\t0.690740\n",
      "  validation acc:\t0.529\n",
      "INFO:tensorflow:/data2/gin/savedmodel/ICML(UCR-yoga)_CNN_MCdropout1.0_0.001_128/16.ckpt is not in all_model_checkpoint_paths. Manually adding it.\n",
      "Model saved in file: /data2/gin/savedmodel/ICML(UCR-yoga)_CNN_MCdropout1.0_0.001_128/16.ckpt\n",
      "  training loss:\t0.691632\n",
      "  training acc:\t0.520\n",
      "  validation loss:\t0.690641\n",
      "  validation acc:\t0.529\n",
      "INFO:tensorflow:/data2/gin/savedmodel/ICML(UCR-yoga)_CNN_MCdropout1.0_0.001_128/17.ckpt is not in all_model_checkpoint_paths. Manually adding it.\n",
      "Model saved in file: /data2/gin/savedmodel/ICML(UCR-yoga)_CNN_MCdropout1.0_0.001_128/17.ckpt\n",
      "  training loss:\t0.691548\n",
      "  training acc:\t0.520\n",
      "  validation loss:\t0.690540\n",
      "  validation acc:\t0.529\n",
      "INFO:tensorflow:/data2/gin/savedmodel/ICML(UCR-yoga)_CNN_MCdropout1.0_0.001_128/18.ckpt is not in all_model_checkpoint_paths. Manually adding it.\n",
      "Model saved in file: /data2/gin/savedmodel/ICML(UCR-yoga)_CNN_MCdropout1.0_0.001_128/18.ckpt\n",
      "  training loss:\t0.691456\n",
      "  training acc:\t0.520\n",
      "  validation loss:\t0.690429\n",
      "  validation acc:\t0.529\n",
      "INFO:tensorflow:/data2/gin/savedmodel/ICML(UCR-yoga)_CNN_MCdropout1.0_0.001_128/19.ckpt is not in all_model_checkpoint_paths. Manually adding it.\n",
      "Model saved in file: /data2/gin/savedmodel/ICML(UCR-yoga)_CNN_MCdropout1.0_0.001_128/19.ckpt\n",
      "  training loss:\t0.691351\n",
      "  training acc:\t0.520\n",
      "  validation loss:\t0.690302\n",
      "  validation acc:\t0.529\n",
      "INFO:tensorflow:/data2/gin/savedmodel/ICML(UCR-yoga)_CNN_MCdropout1.0_0.001_128/20.ckpt is not in all_model_checkpoint_paths. Manually adding it.\n",
      "Model saved in file: /data2/gin/savedmodel/ICML(UCR-yoga)_CNN_MCdropout1.0_0.001_128/20.ckpt\n",
      "  training loss:\t0.691228\n",
      "  training acc:\t0.520\n",
      "  validation loss:\t0.690159\n",
      "  validation acc:\t0.529\n",
      "INFO:tensorflow:/data2/gin/savedmodel/ICML(UCR-yoga)_CNN_MCdropout1.0_0.001_128/21.ckpt is not in all_model_checkpoint_paths. Manually adding it.\n",
      "Model saved in file: /data2/gin/savedmodel/ICML(UCR-yoga)_CNN_MCdropout1.0_0.001_128/21.ckpt\n",
      "  training loss:\t0.691086\n",
      "  training acc:\t0.520\n",
      "  validation loss:\t0.689982\n",
      "  validation acc:\t0.529\n",
      "INFO:tensorflow:/data2/gin/savedmodel/ICML(UCR-yoga)_CNN_MCdropout1.0_0.001_128/22.ckpt is not in all_model_checkpoint_paths. Manually adding it.\n",
      "Model saved in file: /data2/gin/savedmodel/ICML(UCR-yoga)_CNN_MCdropout1.0_0.001_128/22.ckpt\n",
      "  training loss:\t0.690926\n",
      "  training acc:\t0.520\n",
      "  validation loss:\t0.689789\n",
      "  validation acc:\t0.529\n",
      "INFO:tensorflow:/data2/gin/savedmodel/ICML(UCR-yoga)_CNN_MCdropout1.0_0.001_128/23.ckpt is not in all_model_checkpoint_paths. Manually adding it.\n",
      "Model saved in file: /data2/gin/savedmodel/ICML(UCR-yoga)_CNN_MCdropout1.0_0.001_128/23.ckpt\n",
      "  training loss:\t0.690755\n",
      "  training acc:\t0.520\n",
      "  validation loss:\t0.689598\n",
      "  validation acc:\t0.529\n",
      "INFO:tensorflow:/data2/gin/savedmodel/ICML(UCR-yoga)_CNN_MCdropout1.0_0.001_128/24.ckpt is not in all_model_checkpoint_paths. Manually adding it.\n",
      "Model saved in file: /data2/gin/savedmodel/ICML(UCR-yoga)_CNN_MCdropout1.0_0.001_128/24.ckpt\n",
      "  training loss:\t0.690576\n",
      "  training acc:\t0.520\n",
      "  validation loss:\t0.689401\n",
      "  validation acc:\t0.529\n",
      "INFO:tensorflow:/data2/gin/savedmodel/ICML(UCR-yoga)_CNN_MCdropout1.0_0.001_128/25.ckpt is not in all_model_checkpoint_paths. Manually adding it.\n"
     ]
    },
    {
     "name": "stdout",
     "output_type": "stream",
     "text": [
      "Model saved in file: /data2/gin/savedmodel/ICML(UCR-yoga)_CNN_MCdropout1.0_0.001_128/25.ckpt\n",
      "  training loss:\t0.690376\n",
      "  training acc:\t0.520\n",
      "  validation loss:\t0.689173\n",
      "  validation acc:\t0.529\n",
      "INFO:tensorflow:/data2/gin/savedmodel/ICML(UCR-yoga)_CNN_MCdropout1.0_0.001_128/26.ckpt is not in all_model_checkpoint_paths. Manually adding it.\n",
      "Model saved in file: /data2/gin/savedmodel/ICML(UCR-yoga)_CNN_MCdropout1.0_0.001_128/26.ckpt\n",
      "  training loss:\t0.690146\n",
      "  training acc:\t0.520\n",
      "  validation loss:\t0.688905\n",
      "  validation acc:\t0.529\n",
      "INFO:tensorflow:/data2/gin/savedmodel/ICML(UCR-yoga)_CNN_MCdropout1.0_0.001_128/27.ckpt is not in all_model_checkpoint_paths. Manually adding it.\n",
      "Model saved in file: /data2/gin/savedmodel/ICML(UCR-yoga)_CNN_MCdropout1.0_0.001_128/27.ckpt\n",
      "  training loss:\t0.689889\n",
      "  training acc:\t0.520\n",
      "  validation loss:\t0.688612\n",
      "  validation acc:\t0.529\n",
      "INFO:tensorflow:/data2/gin/savedmodel/ICML(UCR-yoga)_CNN_MCdropout1.0_0.001_128/28.ckpt is not in all_model_checkpoint_paths. Manually adding it.\n",
      "Model saved in file: /data2/gin/savedmodel/ICML(UCR-yoga)_CNN_MCdropout1.0_0.001_128/28.ckpt\n",
      "  training loss:\t0.689609\n",
      "  training acc:\t0.520\n",
      "  validation loss:\t0.688310\n",
      "  validation acc:\t0.529\n",
      "INFO:tensorflow:/data2/gin/savedmodel/ICML(UCR-yoga)_CNN_MCdropout1.0_0.001_128/29.ckpt is not in all_model_checkpoint_paths. Manually adding it.\n",
      "Model saved in file: /data2/gin/savedmodel/ICML(UCR-yoga)_CNN_MCdropout1.0_0.001_128/29.ckpt\n",
      "  training loss:\t0.689312\n",
      "  training acc:\t0.520\n",
      "  validation loss:\t0.687985\n",
      "  validation acc:\t0.529\n",
      "INFO:tensorflow:/data2/gin/savedmodel/ICML(UCR-yoga)_CNN_MCdropout1.0_0.001_128/30.ckpt is not in all_model_checkpoint_paths. Manually adding it.\n",
      "Model saved in file: /data2/gin/savedmodel/ICML(UCR-yoga)_CNN_MCdropout1.0_0.001_128/30.ckpt\n",
      "  training loss:\t0.688980\n",
      "  training acc:\t0.520\n",
      "  validation loss:\t0.687615\n",
      "  validation acc:\t0.529\n",
      "INFO:tensorflow:/data2/gin/savedmodel/ICML(UCR-yoga)_CNN_MCdropout1.0_0.001_128/31.ckpt is not in all_model_checkpoint_paths. Manually adding it.\n",
      "Model saved in file: /data2/gin/savedmodel/ICML(UCR-yoga)_CNN_MCdropout1.0_0.001_128/31.ckpt\n",
      "  training loss:\t0.688604\n",
      "  training acc:\t0.520\n",
      "  validation loss:\t0.687195\n",
      "  validation acc:\t0.529\n",
      "INFO:tensorflow:/data2/gin/savedmodel/ICML(UCR-yoga)_CNN_MCdropout1.0_0.001_128/32.ckpt is not in all_model_checkpoint_paths. Manually adding it.\n",
      "Model saved in file: /data2/gin/savedmodel/ICML(UCR-yoga)_CNN_MCdropout1.0_0.001_128/32.ckpt\n",
      "  training loss:\t0.688188\n",
      "  training acc:\t0.520\n",
      "  validation loss:\t0.686738\n",
      "  validation acc:\t0.529\n",
      "INFO:tensorflow:/data2/gin/savedmodel/ICML(UCR-yoga)_CNN_MCdropout1.0_0.001_128/33.ckpt is not in all_model_checkpoint_paths. Manually adding it.\n",
      "Model saved in file: /data2/gin/savedmodel/ICML(UCR-yoga)_CNN_MCdropout1.0_0.001_128/33.ckpt\n",
      "  training loss:\t0.687733\n",
      "  training acc:\t0.520\n",
      "  validation loss:\t0.686242\n",
      "  validation acc:\t0.529\n",
      "INFO:tensorflow:/data2/gin/savedmodel/ICML(UCR-yoga)_CNN_MCdropout1.0_0.001_128/34.ckpt is not in all_model_checkpoint_paths. Manually adding it.\n",
      "Model saved in file: /data2/gin/savedmodel/ICML(UCR-yoga)_CNN_MCdropout1.0_0.001_128/34.ckpt\n",
      "  training loss:\t0.687230\n",
      "  training acc:\t0.520\n",
      "  validation loss:\t0.685693\n",
      "  validation acc:\t0.530\n",
      "INFO:tensorflow:/data2/gin/savedmodel/ICML(UCR-yoga)_CNN_MCdropout1.0_0.001_128/35.ckpt is not in all_model_checkpoint_paths. Manually adding it.\n",
      "Model saved in file: /data2/gin/savedmodel/ICML(UCR-yoga)_CNN_MCdropout1.0_0.001_128/35.ckpt\n",
      "  training loss:\t0.686669\n",
      "  training acc:\t0.520\n",
      "  validation loss:\t0.685084\n",
      "  validation acc:\t0.533\n",
      "INFO:tensorflow:/data2/gin/savedmodel/ICML(UCR-yoga)_CNN_MCdropout1.0_0.001_128/36.ckpt is not in all_model_checkpoint_paths. Manually adding it.\n",
      "Model saved in file: /data2/gin/savedmodel/ICML(UCR-yoga)_CNN_MCdropout1.0_0.001_128/36.ckpt\n",
      "  training loss:\t0.686048\n",
      "  training acc:\t0.527\n",
      "  validation loss:\t0.684405\n",
      "  validation acc:\t0.540\n",
      "INFO:tensorflow:/data2/gin/savedmodel/ICML(UCR-yoga)_CNN_MCdropout1.0_0.001_128/37.ckpt is not in all_model_checkpoint_paths. Manually adding it.\n",
      "Model saved in file: /data2/gin/savedmodel/ICML(UCR-yoga)_CNN_MCdropout1.0_0.001_128/37.ckpt\n",
      "  training loss:\t0.685363\n",
      "  training acc:\t0.535\n",
      "  validation loss:\t0.683650\n",
      "  validation acc:\t0.540\n",
      "INFO:tensorflow:/data2/gin/savedmodel/ICML(UCR-yoga)_CNN_MCdropout1.0_0.001_128/38.ckpt is not in all_model_checkpoint_paths. Manually adding it.\n",
      "Model saved in file: /data2/gin/savedmodel/ICML(UCR-yoga)_CNN_MCdropout1.0_0.001_128/38.ckpt\n",
      "  training loss:\t0.684600\n",
      "  training acc:\t0.531\n",
      "  validation loss:\t0.682817\n",
      "  validation acc:\t0.544\n",
      "INFO:tensorflow:/data2/gin/savedmodel/ICML(UCR-yoga)_CNN_MCdropout1.0_0.001_128/39.ckpt is not in all_model_checkpoint_paths. Manually adding it.\n",
      "Model saved in file: /data2/gin/savedmodel/ICML(UCR-yoga)_CNN_MCdropout1.0_0.001_128/39.ckpt\n",
      "  training loss:\t0.683760\n",
      "  training acc:\t0.535\n",
      "  validation loss:\t0.681919\n",
      "  validation acc:\t0.545\n",
      "INFO:tensorflow:/data2/gin/savedmodel/ICML(UCR-yoga)_CNN_MCdropout1.0_0.001_128/40.ckpt is not in all_model_checkpoint_paths. Manually adding it.\n",
      "Model saved in file: /data2/gin/savedmodel/ICML(UCR-yoga)_CNN_MCdropout1.0_0.001_128/40.ckpt\n",
      "  training loss:\t0.682849\n",
      "  training acc:\t0.543\n",
      "  validation loss:\t0.680953\n",
      "  validation acc:\t0.545\n",
      "INFO:tensorflow:/data2/gin/savedmodel/ICML(UCR-yoga)_CNN_MCdropout1.0_0.001_128/41.ckpt is not in all_model_checkpoint_paths. Manually adding it.\n",
      "Model saved in file: /data2/gin/savedmodel/ICML(UCR-yoga)_CNN_MCdropout1.0_0.001_128/41.ckpt\n",
      "  training loss:\t0.681861\n",
      "  training acc:\t0.551\n",
      "  validation loss:\t0.679926\n",
      "  validation acc:\t0.543\n",
      "INFO:tensorflow:/data2/gin/savedmodel/ICML(UCR-yoga)_CNN_MCdropout1.0_0.001_128/42.ckpt is not in all_model_checkpoint_paths. Manually adding it.\n",
      "Model saved in file: /data2/gin/savedmodel/ICML(UCR-yoga)_CNN_MCdropout1.0_0.001_128/42.ckpt\n",
      "  training loss:\t0.680807\n",
      "  training acc:\t0.539\n",
      "  validation loss:\t0.678837\n",
      "  validation acc:\t0.553\n",
      "INFO:tensorflow:/data2/gin/savedmodel/ICML(UCR-yoga)_CNN_MCdropout1.0_0.001_128/43.ckpt is not in all_model_checkpoint_paths. Manually adding it.\n",
      "Model saved in file: /data2/gin/savedmodel/ICML(UCR-yoga)_CNN_MCdropout1.0_0.001_128/43.ckpt\n",
      "  training loss:\t0.679693\n",
      "  training acc:\t0.523\n",
      "  validation loss:\t0.677692\n",
      "  validation acc:\t0.558\n",
      "INFO:tensorflow:/data2/gin/savedmodel/ICML(UCR-yoga)_CNN_MCdropout1.0_0.001_128/44.ckpt is not in all_model_checkpoint_paths. Manually adding it.\n",
      "Model saved in file: /data2/gin/savedmodel/ICML(UCR-yoga)_CNN_MCdropout1.0_0.001_128/44.ckpt\n",
      "  training loss:\t0.678505\n",
      "  training acc:\t0.543\n",
      "  validation loss:\t0.676491\n",
      "  validation acc:\t0.570\n",
      "INFO:tensorflow:/data2/gin/savedmodel/ICML(UCR-yoga)_CNN_MCdropout1.0_0.001_128/45.ckpt is not in all_model_checkpoint_paths. Manually adding it.\n",
      "Model saved in file: /data2/gin/savedmodel/ICML(UCR-yoga)_CNN_MCdropout1.0_0.001_128/45.ckpt\n",
      "  training loss:\t0.677263\n",
      "  training acc:\t0.570\n",
      "  validation loss:\t0.675254\n",
      "  validation acc:\t0.580\n",
      "INFO:tensorflow:/data2/gin/savedmodel/ICML(UCR-yoga)_CNN_MCdropout1.0_0.001_128/46.ckpt is not in all_model_checkpoint_paths. Manually adding it.\n",
      "Model saved in file: /data2/gin/savedmodel/ICML(UCR-yoga)_CNN_MCdropout1.0_0.001_128/46.ckpt\n",
      "  training loss:\t0.675967\n",
      "  training acc:\t0.574\n",
      "  validation loss:\t0.673998\n",
      "  validation acc:\t0.589\n",
      "INFO:tensorflow:/data2/gin/savedmodel/ICML(UCR-yoga)_CNN_MCdropout1.0_0.001_128/47.ckpt is not in all_model_checkpoint_paths. Manually adding it.\n",
      "Model saved in file: /data2/gin/savedmodel/ICML(UCR-yoga)_CNN_MCdropout1.0_0.001_128/47.ckpt\n",
      "  training loss:\t0.674630\n",
      "  training acc:\t0.590\n",
      "  validation loss:\t0.672731\n",
      "  validation acc:\t0.599\n",
      "INFO:tensorflow:/data2/gin/savedmodel/ICML(UCR-yoga)_CNN_MCdropout1.0_0.001_128/48.ckpt is not in all_model_checkpoint_paths. Manually adding it.\n",
      "Model saved in file: /data2/gin/savedmodel/ICML(UCR-yoga)_CNN_MCdropout1.0_0.001_128/48.ckpt\n",
      "  training loss:\t0.673270\n",
      "  training acc:\t0.594\n",
      "  validation loss:\t0.671460\n",
      "  validation acc:\t0.603\n",
      "INFO:tensorflow:/data2/gin/savedmodel/ICML(UCR-yoga)_CNN_MCdropout1.0_0.001_128/49.ckpt is not in all_model_checkpoint_paths. Manually adding it.\n",
      "Model saved in file: /data2/gin/savedmodel/ICML(UCR-yoga)_CNN_MCdropout1.0_0.001_128/49.ckpt\n"
     ]
    },
    {
     "name": "stdout",
     "output_type": "stream",
     "text": [
      "  training loss:\t0.671899\n",
      "  training acc:\t0.594\n",
      "  validation loss:\t0.670190\n",
      "  validation acc:\t0.609\n",
      "INFO:tensorflow:/data2/gin/savedmodel/ICML(UCR-yoga)_CNN_MCdropout1.0_0.001_128/50.ckpt is not in all_model_checkpoint_paths. Manually adding it.\n",
      "Model saved in file: /data2/gin/savedmodel/ICML(UCR-yoga)_CNN_MCdropout1.0_0.001_128/50.ckpt\n",
      "  training loss:\t0.670531\n",
      "  training acc:\t0.598\n",
      "  validation loss:\t0.668942\n",
      "  validation acc:\t0.612\n"
     ]
    }
   ],
   "source": [
    "for epoch in range(num_epochs):#range(num_epochs):##\n",
    "    \n",
    "    loss = 0\n",
    "    acc=0\n",
    "    train_batches = 0\n",
    "    start_time = time.time()   \n",
    "    \n",
    "    for batch in get_batch(X=trainX, Y=trainY, batch_size=batch_size):\n",
    "        train_in, train_target = batch\n",
    "        train_batches += 1.0 \n",
    "        loss1 ,acc1 = MC_dropout_model.train(data=train_in,target= train_target,keep_prob=keep_prob,dropout_bool=False)\n",
    "        loss = loss1+loss\n",
    "        acc = acc1+acc\n",
    "        if np.isnan(loss):\n",
    "            print ('error')\n",
    "            break\n",
    "    t_loss.append(loss/train_batches)\n",
    "    t_acc.append(acc/train_batches)\n",
    "    \n",
    "    train_history.loc[epoch] = [epoch+1, t_loss[epoch], t_acc[epoch] ,time.strftime(\"%Y-%m-%d-%H:%M\", time.localtime())]\n",
    "    if not os.path.exists(os.path.join(save_path, model_name)):\n",
    "        os.mkdir( os.path.join(save_path, model_name))\n",
    "    MC_dropout_model.save(os.path.join(save_path, model_name,str(epoch+1)+'.ckpt'))\n",
    "\n",
    "    \n",
    "    if(epoch+1)%val_freq ==0:\n",
    "        acc=0\n",
    "        loss = 0\n",
    "        val_batches=0\n",
    "        for batch in get_batch(X=validX, Y=validY, batch_size=batch_size):\n",
    "            val_in, val_target = batch\n",
    "            val_batches += 1.0 \n",
    "            loss1 ,acc1 = MC_dropout_model.test(data=val_in,target= val_target,keep_prob=keep_prob,dropout_bool=False)\n",
    "            loss = loss1+loss\n",
    "            acc = acc1+acc\n",
    "        \n",
    "        v_acc.append(acc/val_batches)\n",
    "        v_loss.append(loss/val_batches)\n",
    "        valid_history.loc[epoch] = [epoch+1, v_loss[epoch], v_acc[epoch] ,time.strftime(\"%Y-%m-%d-%H:%M\", time.localtime())]  \n",
    "        \n",
    "        print(\"  training loss:\\t{:.6f}\".format(t_loss[epoch]))\n",
    "        print(\"  training acc:\\t{:.3f}\".format(t_acc[epoch]))\n",
    "        print(\"  validation loss:\\t{:.6f}\".format(v_loss[epoch]))\n",
    "        print(\"  validation acc:\\t{:.3f}\".format(v_acc[epoch]))\n"
   ]
  },
  {
   "cell_type": "code",
   "execution_count": 271,
   "metadata": {},
   "outputs": [],
   "source": [
    "train_history.to_csv(os.path.join(save_path, model_name, \"history_train.csv\"))\n",
    "valid_history.to_csv(os.path.join(save_path, model_name, \"history_valid.csv\"))"
   ]
  },
  {
   "cell_type": "markdown",
   "metadata": {},
   "source": [
    "# check the result"
   ]
  },
  {
   "cell_type": "code",
   "execution_count": 273,
   "metadata": {},
   "outputs": [],
   "source": [
    "train_history = pd.read_csv(os.path.join(save_path, model_name, \"history_train.csv\"),index_col=0)\n",
    "valid_history = pd.read_csv(os.path.join(save_path, model_name, \"history_valid.csv\"),index_col=0)"
   ]
  },
  {
   "cell_type": "code",
   "execution_count": 277,
   "metadata": {},
   "outputs": [],
   "source": [
    "import matplotlib.pyplot as plt "
   ]
  },
  {
   "cell_type": "code",
   "execution_count": 282,
   "metadata": {},
   "outputs": [
    {
     "data": {
      "image/png": "[encoded data removed]",
      "text/plain": [
       "<matplotlib.figure.Figure at 0x7f401c8f5ef0>"
      ]
     },
     "metadata": {
      "needs_background": "light"
     },
     "output_type": "display_data"
    }
   ],
   "source": [
    "#Loss graph\n",
    "%matplotlib inline\n",
    "\n",
    "fig = plt.figure(figsize=(10,5))\n",
    "ax = fig.add_subplot(1,2,1)\n",
    "ax.plot(train_history['loss'].tolist(), label='train loss')\n",
    "ax.plot(valid_history['loss'].tolist(), label='valid loss', color='Red')\n",
    "\n",
    "#ax.plot( range(val_freq, len(train_history)+val_freq, val_freq), valid_history['loss'], label='valid loss', marker='o', color='Red')\n",
    "#ax.axis([0, len(train_history), 0, 1.0])\n",
    "plt.xlim(0,None)\n",
    "plt.legend(fontsize=12, loc='upper right')\n",
    "plt.title('Loss graph', fontsize=15)\n",
    "plt.xlabel('epoch', fontsize=13)\n",
    "plt.ylabel('loss', fontsize=13)\n",
    "\n",
    "plt.savefig(os.path.join(save_path, model_name, 'loss_graph.png'))\n",
    "\n",
    "ax = fig.add_subplot(1,2,2)\n",
    "ax.plot(train_history['acc'].tolist(), label='train acc')\n",
    "ax.plot(valid_history['acc'].tolist(), label='valid acc', color='Red')\n",
    "\n",
    "#ax.plot( range(val_freq, len(train_history)+val_freq, val_freq), valid_history['loss'], label='valid loss', marker='o', color='Red')\n",
    "#ax.axis([0, len(train_history), 0, 1.0])\n",
    "plt.xlim(0,None)\n",
    "plt.legend(fontsize=12, loc='upper right')\n",
    "plt.title('Acc graph', fontsize=15)\n",
    "plt.xlabel('epoch', fontsize=13)\n",
    "plt.ylabel('loss', fontsize=13)\n",
    "\n",
    "\n",
    "plt.savefig(os.path.join(save_path, model_name, 'acc_graph.png'))\n"
   ]
  },
  {
   "cell_type": "code",
   "execution_count": 289,
   "metadata": {},
   "outputs": [],
   "source": [
    "bestepoch = int(np.argmin(valid_history['loss']))"
   ]
  },
  {
   "cell_type": "code",
   "execution_count": 297,
   "metadata": {},
   "outputs": [
    {
     "name": "stdout",
     "output_type": "stream",
     "text": [
      "error: 0.6689424027096141\n"
     ]
    }
   ],
   "source": [
    "error = valid_history.loc[bestepoch,'loss']\n",
    "print (\"error: {}\".format(error))"
   ]
  },
  {
   "cell_type": "code",
   "execution_count": 298,
   "metadata": {},
   "outputs": [
    {
     "name": "stdout",
     "output_type": "stream",
     "text": [
      "INFO:tensorflow:Restoring parameters from /data2/gin/savedmodel/ICML(UCR-yoga)_CNN_MCdropout1.0_0.001_128/49.ckpt\n",
      "Model restored\n"
     ]
    }
   ],
   "source": [
    "bestepoch=bestepoch\n",
    "MC_dropout_model.load(os.path.join(save_path, model_name,str(bestepoch)+'.ckpt'))"
   ]
  },
  {
   "cell_type": "markdown",
   "metadata": {},
   "source": [
    "# 5. Trained 된 모델에서 Last Conv output Load하기"
   ]
  },
  {
   "cell_type": "code",
   "execution_count": 315,
   "metadata": {},
   "outputs": [
    {
     "data": {
      "text/plain": [
       "<matplotlib.image.AxesImage at 0x7f400ff3eb70>"
      ]
     },
     "execution_count": 315,
     "metadata": {},
     "output_type": "execute_result"
    },
    {
     "data": {
      "image/png": "[encoded data removed]",
      "text/plain": [
       "<matplotlib.figure.Figure at 0x7f401c828208>"
      ]
     },
     "metadata": {
      "needs_background": "light"
     },
     "output_type": "display_data"
    }
   ],
   "source": [
    "#각 한줄당 last conv-layer의 한 채널\n",
    "plt.imshow(MC_dropout_model.get_last_conv_output(data=train_in,keep_prob=0.5)[0][0].T)"
   ]
  },
  {
   "cell_type": "code",
   "execution_count": null,
   "metadata": {},
   "outputs": [],
   "source": [
    "# prediction 시에는 MC dropout 을 적용\n",
    "# keep_prob = 0.5(survive 확률) , dropout_bool=True\n",
    "\n",
    "#각 데이터 마다 MC dropout 을 B 번 적용한다면, B 개의 서로 다른 model structure를 거치며 나타난 last conv output을 각 노드마다 모두 저장해놓음\n",
    "\n",
    "#예를들어, unit 1이 보는 pattern을 모두 last_conv_patter1에 저장\n",
    "#데이터가 N 개이고, MC dropout 횟수가 B번이라면, 총 N*B개의 패턴이 저장됨\n",
    "last_conv_pattern1=[]\n",
    "B = MCdropout횟수\n",
    "\n",
    "for batch in getbatch(X,Y):\n",
    "    for i in range(0,B):\n",
    "        output = MC_dropout_model.get_last_conv_output(data=train_in,target= train_target,keep_prob=0.5,dropout_bool=True)\n",
    "        pattern = output[output>threshold]\n",
    "        last_conv_pattern1.append(pattern)"
   ]
  },
  {
   "cell_type": "markdown",
   "metadata": {},
   "source": [
    "# 6. pattern 저장해 놓은 것을 clustering 해서 라벨 붙혀주기?"
   ]
  },
  {
   "cell_type": "markdown",
   "metadata": {},
   "source": [
    "# 7. 각 노드당 pattern의 entropy 계산하여 uncertainty 계산?"
   ]
  },
  {
   "cell_type": "markdown",
   "metadata": {},
   "source": [
    "# 8. uncertainty 가 특정 threshold보다 낮을 경우, pattern과 unit 매칭"
   ]
  }
 ],
 "metadata": {
  "kernelspec": {
   "display_name": "py_36_env",
   "language": "python",
   "name": "py_36_env"
  },
  "language_info": {
   "codemirror_mode": {
    "name": "ipython",
    "version": 3
   },
   "file_extension": ".py",
   "mimetype": "text/x-python",
   "name": "python",
   "nbconvert_exporter": "python",
   "pygments_lexer": "ipython3",
   "version": "3.6.4"
  }
 },
 "nbformat": 4,
 "nbformat_minor": 2
}
